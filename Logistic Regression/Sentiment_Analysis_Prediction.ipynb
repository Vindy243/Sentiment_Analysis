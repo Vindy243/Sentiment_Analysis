{
  "nbformat": 4,
  "nbformat_minor": 0,
  "metadata": {
    "colab": {
      "provenance": []
    },
    "kernelspec": {
      "name": "python3",
      "display_name": "Python 3"
    },
    "language_info": {
      "name": "python"
    }
  },
  "cells": [
    {
      "cell_type": "markdown",
      "source": [
        "**This notebook gives a descripton of:**\n",
        "\n",
        "1) Performing the sentiment analysis using the following techniques: *Logistic regression, Logistic regression with TFIDF vectorizer* and *Logistic regression with TFIDF vectorizer* and *n-grams techniques*.\n",
        "\n",
        "2) **Analysing the accuracy** of the models and determining the best approach.\n",
        "\n",
        "3) Identifying the **highest-used words** in each set of reviews, when grouped by rating."
      ],
      "metadata": {
        "id": "GiqScOg_ug70"
      }
    },
    {
      "cell_type": "code",
      "execution_count": 4,
      "metadata": {
        "id": "thdk4XVuuTiW"
      },
      "outputs": [],
      "source": [
        "#Importing Libraries\n",
        "import pandas as pd\n",
        "import numpy as np\n",
        "import matplotlib.pyplot as plt\n",
        "import seaborn as sns\n",
        "from sklearn.feature_extraction.text import CountVectorizer\n",
        "from sklearn.feature_extraction.text import TfidfVectorizer\n",
        "from sklearn.linear_model import LogisticRegression\n",
        "from sklearn.model_selection import train_test_split\n",
        "from sklearn.dummy import DummyClassifier\n",
        "from string import punctuation\n",
        "from sklearn import svm\n",
        "from nltk.corpus import stopwords\n",
        "from nltk.stem import WordNetLemmatizer\n",
        "import nltk\n",
        "from nltk import ngrams\n",
        "from itertools import chain\n",
        "from wordcloud import WordCloud\n",
        "from fractions import Fraction\n",
        "import re"
      ]
    },
    {
      "cell_type": "markdown",
      "source": [
        "# **Reading the data**\n",
        "\n",
        "Now, we are reading the Merged.json file into dataframe and adding new columns to perform the efficiency of helpfulness metrics."
      ],
      "metadata": {
        "id": "OlsBHrWyvgSc"
      }
    },
    {
      "cell_type": "code",
      "source": [
        "from google.colab import drive\n",
        "drive.mount('/content/drive')"
      ],
      "metadata": {
        "colab": {
          "base_uri": "https://localhost:8080/"
        },
        "id": "fW0Spp9Qzde5",
        "outputId": "8ea07b9d-a91c-4320-b66c-b0ccb7bfef4a"
      },
      "execution_count": 5,
      "outputs": [
        {
          "output_type": "stream",
          "name": "stdout",
          "text": [
            "Drive already mounted at /content/drive; to attempt to forcibly remount, call drive.mount(\"/content/drive\", force_remount=True).\n"
          ]
        }
      ]
    },
    {
      "cell_type": "code",
      "source": [
        "#Read the file and add new columns helpfulnessnumerator and helpfulnessdenominator\n",
        "file_path = '/content/drive/My Drive/Merged.json'\n",
        "reviews = pd.read_json(file_path,lines=True)\n",
        "reviews[['HelpfulnessNumerator','HelpfulnessDenominator']] = pd.DataFrame(reviews.helpful.values.tolist(), index = reviews.index)"
      ],
      "metadata": {
        "id": "Jppt2nENvbWo"
      },
      "execution_count": 6,
      "outputs": []
    },
    {
      "cell_type": "markdown",
      "source": [
        "# **Data preprocessing**\n",
        "\n",
        "We remove the duplicates if any, based on the reviewerID, productID (asin) and unix timestamp. Adding the upvote metrics to analyze the dataset."
      ],
      "metadata": {
        "id": "Rv1UfBKmvqd7"
      }
    },
    {
      "cell_type": "code",
      "source": [
        "#Cleaning the data by eliminating duplicates\n",
        "reviews.drop_duplicates(subset=['reviewerID', 'asin','unixReviewTime'],inplace=True)\n",
        "\n",
        "#Adding the helpfulness and upvote percentages for metrics\n",
        "reviews['Helpful %'] = np.where(reviews['HelpfulnessDenominator'] > 0, reviews['HelpfulnessNumerator'] / reviews['HelpfulnessDenominator'], -1)\n",
        "reviews['% Upvote'] = pd.cut(reviews['Helpful %'], bins = [-1, 0, 0.2, 0.4, 0.6, 0.8, 1.0], labels = ['Empty', '0-20%', '20-40%', '40-60%', '60-80%', '80-100%'], include_lowest = True)\n",
        "reviews['Id'] = reviews.index;\n",
        "reviews"
      ],
      "metadata": {
        "colab": {
          "base_uri": "https://localhost:8080/",
          "height": 1000
        },
        "id": "1RkpUjfPvu0y",
        "outputId": "2586a539-b8d3-44ae-cabd-ddc47678264b"
      },
      "execution_count": 7,
      "outputs": [
        {
          "output_type": "execute_result",
          "data": {
            "text/plain": [
              "                   reviewerID        asin  \\\n",
              "0       A10000012B7CGYKOMPQ4L  000100039X   \n",
              "1              A2S166WSCFIFP5  000100039X   \n",
              "2              A1BM81XB4QHOA3  000100039X   \n",
              "3              A1MOSTXNIO5MPJ  000100039X   \n",
              "4              A2XQ5LZHTD4AFT  000100039X   \n",
              "...                       ...         ...   \n",
              "320452         A1YMNTFLNDYQ1F  B00LORXVUE   \n",
              "320453         A15TX8B2L8B20S  B00LORXVUE   \n",
              "320454         A3JI7QRZO1QG8X  B00LORXVUE   \n",
              "320455         A1NHB2VC68YQNM  B00LORXVUE   \n",
              "320456         A1AG6U022WHXBF  B00LORXVUE   \n",
              "\n",
              "                                           reviewerName helpful  \\\n",
              "0                                                  Adam  [0, 0]   \n",
              "1       adead_poet@hotmail.com \"adead_poet@hotmail.com\"  [0, 2]   \n",
              "2                           Ahoro Blethends \"Seriously\"  [0, 0]   \n",
              "3                                             Alan Krug  [0, 0]   \n",
              "4                                              Alaturka  [7, 9]   \n",
              "...                                                 ...     ...   \n",
              "320452                                  eyeused2loveher  [0, 0]   \n",
              "320453                                     Jon Davidson  [0, 0]   \n",
              "320454                                Joyce M. Davidson  [0, 0]   \n",
              "320455                                   Nurse Farrugia  [0, 0]   \n",
              "320456                                   Trisha Crocker  [0, 0]   \n",
              "\n",
              "                                               reviewText  overall  \\\n",
              "0       Spiritually and mentally inspiring! A book tha...        5   \n",
              "1       This is one my must have books. It is a master...        5   \n",
              "2       This book provides a reflection that you can a...        5   \n",
              "3       I first read THE PROPHET in college back in th...        5   \n",
              "4       A timeless classic.  It is a very demanding an...        5   \n",
              "...                                                   ...      ...   \n",
              "320452  Works great just like my original one. I reall...        5   \n",
              "320453  Great product. Great packaging. High quality a...        5   \n",
              "320454  This is a great cable, just as good as the mor...        5   \n",
              "320455  I really like it becasue it works well with my...        5   \n",
              "320456  product as described, I have wasted a lot of m...        5   \n",
              "\n",
              "                                                  summary  unixReviewTime  \\\n",
              "0                                              Wonderful!      1355616000   \n",
              "1                                            close to god      1071100800   \n",
              "2                         Must Read for Life Afficianados      1390003200   \n",
              "3       Timeless for every good and bad time in your l...      1317081600   \n",
              "4                                           A Modern Rumi      1033948800   \n",
              "...                                                   ...             ...   \n",
              "320452                           This works just perfect!      1405900800   \n",
              "320453           Great replacement cable. Apple certified      1405900800   \n",
              "320454                                       Real quality      1405900800   \n",
              "320455  I really like it becasue it works well with my...      1405814400   \n",
              "320456              I have wasted a lot of money on cords      1405900800   \n",
              "\n",
              "         reviewTime  HelpfulnessNumerator  HelpfulnessDenominator  Helpful %  \\\n",
              "0       12 16, 2012                     0                       0  -1.000000   \n",
              "1       12 11, 2003                     0                       2   0.000000   \n",
              "2       01 18, 2014                     0                       0  -1.000000   \n",
              "3       09 27, 2011                     0                       0  -1.000000   \n",
              "4        10 7, 2002                     7                       9   0.777778   \n",
              "...             ...                   ...                     ...        ...   \n",
              "320452  07 21, 2014                     0                       0  -1.000000   \n",
              "320453  07 21, 2014                     0                       0  -1.000000   \n",
              "320454  07 21, 2014                     0                       0  -1.000000   \n",
              "320455  07 20, 2014                     0                       0  -1.000000   \n",
              "320456  07 21, 2014                     0                       0  -1.000000   \n",
              "\n",
              "       % Upvote      Id  \n",
              "0         Empty       0  \n",
              "1         Empty       1  \n",
              "2         Empty       2  \n",
              "3         Empty       3  \n",
              "4        60-80%       4  \n",
              "...         ...     ...  \n",
              "320452    Empty  320452  \n",
              "320453    Empty  320453  \n",
              "320454    Empty  320454  \n",
              "320455    Empty  320455  \n",
              "320456    Empty  320456  \n",
              "\n",
              "[320456 rows x 14 columns]"
            ],
            "text/html": [
              "\n",
              "  <div id=\"df-ddf44b65-1330-457d-a797-fe730c5829f0\" class=\"colab-df-container\">\n",
              "    <div>\n",
              "<style scoped>\n",
              "    .dataframe tbody tr th:only-of-type {\n",
              "        vertical-align: middle;\n",
              "    }\n",
              "\n",
              "    .dataframe tbody tr th {\n",
              "        vertical-align: top;\n",
              "    }\n",
              "\n",
              "    .dataframe thead th {\n",
              "        text-align: right;\n",
              "    }\n",
              "</style>\n",
              "<table border=\"1\" class=\"dataframe\">\n",
              "  <thead>\n",
              "    <tr style=\"text-align: right;\">\n",
              "      <th></th>\n",
              "      <th>reviewerID</th>\n",
              "      <th>asin</th>\n",
              "      <th>reviewerName</th>\n",
              "      <th>helpful</th>\n",
              "      <th>reviewText</th>\n",
              "      <th>overall</th>\n",
              "      <th>summary</th>\n",
              "      <th>unixReviewTime</th>\n",
              "      <th>reviewTime</th>\n",
              "      <th>HelpfulnessNumerator</th>\n",
              "      <th>HelpfulnessDenominator</th>\n",
              "      <th>Helpful %</th>\n",
              "      <th>% Upvote</th>\n",
              "      <th>Id</th>\n",
              "    </tr>\n",
              "  </thead>\n",
              "  <tbody>\n",
              "    <tr>\n",
              "      <th>0</th>\n",
              "      <td>A10000012B7CGYKOMPQ4L</td>\n",
              "      <td>000100039X</td>\n",
              "      <td>Adam</td>\n",
              "      <td>[0, 0]</td>\n",
              "      <td>Spiritually and mentally inspiring! A book tha...</td>\n",
              "      <td>5</td>\n",
              "      <td>Wonderful!</td>\n",
              "      <td>1355616000</td>\n",
              "      <td>12 16, 2012</td>\n",
              "      <td>0</td>\n",
              "      <td>0</td>\n",
              "      <td>-1.000000</td>\n",
              "      <td>Empty</td>\n",
              "      <td>0</td>\n",
              "    </tr>\n",
              "    <tr>\n",
              "      <th>1</th>\n",
              "      <td>A2S166WSCFIFP5</td>\n",
              "      <td>000100039X</td>\n",
              "      <td>adead_poet@hotmail.com \"adead_poet@hotmail.com\"</td>\n",
              "      <td>[0, 2]</td>\n",
              "      <td>This is one my must have books. It is a master...</td>\n",
              "      <td>5</td>\n",
              "      <td>close to god</td>\n",
              "      <td>1071100800</td>\n",
              "      <td>12 11, 2003</td>\n",
              "      <td>0</td>\n",
              "      <td>2</td>\n",
              "      <td>0.000000</td>\n",
              "      <td>Empty</td>\n",
              "      <td>1</td>\n",
              "    </tr>\n",
              "    <tr>\n",
              "      <th>2</th>\n",
              "      <td>A1BM81XB4QHOA3</td>\n",
              "      <td>000100039X</td>\n",
              "      <td>Ahoro Blethends \"Seriously\"</td>\n",
              "      <td>[0, 0]</td>\n",
              "      <td>This book provides a reflection that you can a...</td>\n",
              "      <td>5</td>\n",
              "      <td>Must Read for Life Afficianados</td>\n",
              "      <td>1390003200</td>\n",
              "      <td>01 18, 2014</td>\n",
              "      <td>0</td>\n",
              "      <td>0</td>\n",
              "      <td>-1.000000</td>\n",
              "      <td>Empty</td>\n",
              "      <td>2</td>\n",
              "    </tr>\n",
              "    <tr>\n",
              "      <th>3</th>\n",
              "      <td>A1MOSTXNIO5MPJ</td>\n",
              "      <td>000100039X</td>\n",
              "      <td>Alan Krug</td>\n",
              "      <td>[0, 0]</td>\n",
              "      <td>I first read THE PROPHET in college back in th...</td>\n",
              "      <td>5</td>\n",
              "      <td>Timeless for every good and bad time in your l...</td>\n",
              "      <td>1317081600</td>\n",
              "      <td>09 27, 2011</td>\n",
              "      <td>0</td>\n",
              "      <td>0</td>\n",
              "      <td>-1.000000</td>\n",
              "      <td>Empty</td>\n",
              "      <td>3</td>\n",
              "    </tr>\n",
              "    <tr>\n",
              "      <th>4</th>\n",
              "      <td>A2XQ5LZHTD4AFT</td>\n",
              "      <td>000100039X</td>\n",
              "      <td>Alaturka</td>\n",
              "      <td>[7, 9]</td>\n",
              "      <td>A timeless classic.  It is a very demanding an...</td>\n",
              "      <td>5</td>\n",
              "      <td>A Modern Rumi</td>\n",
              "      <td>1033948800</td>\n",
              "      <td>10 7, 2002</td>\n",
              "      <td>7</td>\n",
              "      <td>9</td>\n",
              "      <td>0.777778</td>\n",
              "      <td>60-80%</td>\n",
              "      <td>4</td>\n",
              "    </tr>\n",
              "    <tr>\n",
              "      <th>...</th>\n",
              "      <td>...</td>\n",
              "      <td>...</td>\n",
              "      <td>...</td>\n",
              "      <td>...</td>\n",
              "      <td>...</td>\n",
              "      <td>...</td>\n",
              "      <td>...</td>\n",
              "      <td>...</td>\n",
              "      <td>...</td>\n",
              "      <td>...</td>\n",
              "      <td>...</td>\n",
              "      <td>...</td>\n",
              "      <td>...</td>\n",
              "      <td>...</td>\n",
              "    </tr>\n",
              "    <tr>\n",
              "      <th>320452</th>\n",
              "      <td>A1YMNTFLNDYQ1F</td>\n",
              "      <td>B00LORXVUE</td>\n",
              "      <td>eyeused2loveher</td>\n",
              "      <td>[0, 0]</td>\n",
              "      <td>Works great just like my original one. I reall...</td>\n",
              "      <td>5</td>\n",
              "      <td>This works just perfect!</td>\n",
              "      <td>1405900800</td>\n",
              "      <td>07 21, 2014</td>\n",
              "      <td>0</td>\n",
              "      <td>0</td>\n",
              "      <td>-1.000000</td>\n",
              "      <td>Empty</td>\n",
              "      <td>320452</td>\n",
              "    </tr>\n",
              "    <tr>\n",
              "      <th>320453</th>\n",
              "      <td>A15TX8B2L8B20S</td>\n",
              "      <td>B00LORXVUE</td>\n",
              "      <td>Jon Davidson</td>\n",
              "      <td>[0, 0]</td>\n",
              "      <td>Great product. Great packaging. High quality a...</td>\n",
              "      <td>5</td>\n",
              "      <td>Great replacement cable. Apple certified</td>\n",
              "      <td>1405900800</td>\n",
              "      <td>07 21, 2014</td>\n",
              "      <td>0</td>\n",
              "      <td>0</td>\n",
              "      <td>-1.000000</td>\n",
              "      <td>Empty</td>\n",
              "      <td>320453</td>\n",
              "    </tr>\n",
              "    <tr>\n",
              "      <th>320454</th>\n",
              "      <td>A3JI7QRZO1QG8X</td>\n",
              "      <td>B00LORXVUE</td>\n",
              "      <td>Joyce M. Davidson</td>\n",
              "      <td>[0, 0]</td>\n",
              "      <td>This is a great cable, just as good as the mor...</td>\n",
              "      <td>5</td>\n",
              "      <td>Real quality</td>\n",
              "      <td>1405900800</td>\n",
              "      <td>07 21, 2014</td>\n",
              "      <td>0</td>\n",
              "      <td>0</td>\n",
              "      <td>-1.000000</td>\n",
              "      <td>Empty</td>\n",
              "      <td>320454</td>\n",
              "    </tr>\n",
              "    <tr>\n",
              "      <th>320455</th>\n",
              "      <td>A1NHB2VC68YQNM</td>\n",
              "      <td>B00LORXVUE</td>\n",
              "      <td>Nurse Farrugia</td>\n",
              "      <td>[0, 0]</td>\n",
              "      <td>I really like it becasue it works well with my...</td>\n",
              "      <td>5</td>\n",
              "      <td>I really like it becasue it works well with my...</td>\n",
              "      <td>1405814400</td>\n",
              "      <td>07 20, 2014</td>\n",
              "      <td>0</td>\n",
              "      <td>0</td>\n",
              "      <td>-1.000000</td>\n",
              "      <td>Empty</td>\n",
              "      <td>320455</td>\n",
              "    </tr>\n",
              "    <tr>\n",
              "      <th>320456</th>\n",
              "      <td>A1AG6U022WHXBF</td>\n",
              "      <td>B00LORXVUE</td>\n",
              "      <td>Trisha Crocker</td>\n",
              "      <td>[0, 0]</td>\n",
              "      <td>product as described, I have wasted a lot of m...</td>\n",
              "      <td>5</td>\n",
              "      <td>I have wasted a lot of money on cords</td>\n",
              "      <td>1405900800</td>\n",
              "      <td>07 21, 2014</td>\n",
              "      <td>0</td>\n",
              "      <td>0</td>\n",
              "      <td>-1.000000</td>\n",
              "      <td>Empty</td>\n",
              "      <td>320456</td>\n",
              "    </tr>\n",
              "  </tbody>\n",
              "</table>\n",
              "<p>320456 rows × 14 columns</p>\n",
              "</div>\n",
              "    <div class=\"colab-df-buttons\">\n",
              "\n",
              "  <div class=\"colab-df-container\">\n",
              "    <button class=\"colab-df-convert\" onclick=\"convertToInteractive('df-ddf44b65-1330-457d-a797-fe730c5829f0')\"\n",
              "            title=\"Convert this dataframe to an interactive table.\"\n",
              "            style=\"display:none;\">\n",
              "\n",
              "  <svg xmlns=\"http://www.w3.org/2000/svg\" height=\"24px\" viewBox=\"0 -960 960 960\">\n",
              "    <path d=\"M120-120v-720h720v720H120Zm60-500h600v-160H180v160Zm220 220h160v-160H400v160Zm0 220h160v-160H400v160ZM180-400h160v-160H180v160Zm440 0h160v-160H620v160ZM180-180h160v-160H180v160Zm440 0h160v-160H620v160Z\"/>\n",
              "  </svg>\n",
              "    </button>\n",
              "\n",
              "  <style>\n",
              "    .colab-df-container {\n",
              "      display:flex;\n",
              "      gap: 12px;\n",
              "    }\n",
              "\n",
              "    .colab-df-convert {\n",
              "      background-color: #E8F0FE;\n",
              "      border: none;\n",
              "      border-radius: 50%;\n",
              "      cursor: pointer;\n",
              "      display: none;\n",
              "      fill: #1967D2;\n",
              "      height: 32px;\n",
              "      padding: 0 0 0 0;\n",
              "      width: 32px;\n",
              "    }\n",
              "\n",
              "    .colab-df-convert:hover {\n",
              "      background-color: #E2EBFA;\n",
              "      box-shadow: 0px 1px 2px rgba(60, 64, 67, 0.3), 0px 1px 3px 1px rgba(60, 64, 67, 0.15);\n",
              "      fill: #174EA6;\n",
              "    }\n",
              "\n",
              "    .colab-df-buttons div {\n",
              "      margin-bottom: 4px;\n",
              "    }\n",
              "\n",
              "    [theme=dark] .colab-df-convert {\n",
              "      background-color: #3B4455;\n",
              "      fill: #D2E3FC;\n",
              "    }\n",
              "\n",
              "    [theme=dark] .colab-df-convert:hover {\n",
              "      background-color: #434B5C;\n",
              "      box-shadow: 0px 1px 3px 1px rgba(0, 0, 0, 0.15);\n",
              "      filter: drop-shadow(0px 1px 2px rgba(0, 0, 0, 0.3));\n",
              "      fill: #FFFFFF;\n",
              "    }\n",
              "  </style>\n",
              "\n",
              "    <script>\n",
              "      const buttonEl =\n",
              "        document.querySelector('#df-ddf44b65-1330-457d-a797-fe730c5829f0 button.colab-df-convert');\n",
              "      buttonEl.style.display =\n",
              "        google.colab.kernel.accessAllowed ? 'block' : 'none';\n",
              "\n",
              "      async function convertToInteractive(key) {\n",
              "        const element = document.querySelector('#df-ddf44b65-1330-457d-a797-fe730c5829f0');\n",
              "        const dataTable =\n",
              "          await google.colab.kernel.invokeFunction('convertToInteractive',\n",
              "                                                    [key], {});\n",
              "        if (!dataTable) return;\n",
              "\n",
              "        const docLinkHtml = 'Like what you see? Visit the ' +\n",
              "          '<a target=\"_blank\" href=https://colab.research.google.com/notebooks/data_table.ipynb>data table notebook</a>'\n",
              "          + ' to learn more about interactive tables.';\n",
              "        element.innerHTML = '';\n",
              "        dataTable['output_type'] = 'display_data';\n",
              "        await google.colab.output.renderOutput(dataTable, element);\n",
              "        const docLink = document.createElement('div');\n",
              "        docLink.innerHTML = docLinkHtml;\n",
              "        element.appendChild(docLink);\n",
              "      }\n",
              "    </script>\n",
              "  </div>\n",
              "\n",
              "\n",
              "<div id=\"df-d6d0e9b8-5707-4f7d-a20f-861b52761b2d\">\n",
              "  <button class=\"colab-df-quickchart\" onclick=\"quickchart('df-d6d0e9b8-5707-4f7d-a20f-861b52761b2d')\"\n",
              "            title=\"Suggest charts\"\n",
              "            style=\"display:none;\">\n",
              "\n",
              "<svg xmlns=\"http://www.w3.org/2000/svg\" height=\"24px\"viewBox=\"0 0 24 24\"\n",
              "     width=\"24px\">\n",
              "    <g>\n",
              "        <path d=\"M19 3H5c-1.1 0-2 .9-2 2v14c0 1.1.9 2 2 2h14c1.1 0 2-.9 2-2V5c0-1.1-.9-2-2-2zM9 17H7v-7h2v7zm4 0h-2V7h2v10zm4 0h-2v-4h2v4z\"/>\n",
              "    </g>\n",
              "</svg>\n",
              "  </button>\n",
              "\n",
              "<style>\n",
              "  .colab-df-quickchart {\n",
              "      --bg-color: #E8F0FE;\n",
              "      --fill-color: #1967D2;\n",
              "      --hover-bg-color: #E2EBFA;\n",
              "      --hover-fill-color: #174EA6;\n",
              "      --disabled-fill-color: #AAA;\n",
              "      --disabled-bg-color: #DDD;\n",
              "  }\n",
              "\n",
              "  [theme=dark] .colab-df-quickchart {\n",
              "      --bg-color: #3B4455;\n",
              "      --fill-color: #D2E3FC;\n",
              "      --hover-bg-color: #434B5C;\n",
              "      --hover-fill-color: #FFFFFF;\n",
              "      --disabled-bg-color: #3B4455;\n",
              "      --disabled-fill-color: #666;\n",
              "  }\n",
              "\n",
              "  .colab-df-quickchart {\n",
              "    background-color: var(--bg-color);\n",
              "    border: none;\n",
              "    border-radius: 50%;\n",
              "    cursor: pointer;\n",
              "    display: none;\n",
              "    fill: var(--fill-color);\n",
              "    height: 32px;\n",
              "    padding: 0;\n",
              "    width: 32px;\n",
              "  }\n",
              "\n",
              "  .colab-df-quickchart:hover {\n",
              "    background-color: var(--hover-bg-color);\n",
              "    box-shadow: 0 1px 2px rgba(60, 64, 67, 0.3), 0 1px 3px 1px rgba(60, 64, 67, 0.15);\n",
              "    fill: var(--button-hover-fill-color);\n",
              "  }\n",
              "\n",
              "  .colab-df-quickchart-complete:disabled,\n",
              "  .colab-df-quickchart-complete:disabled:hover {\n",
              "    background-color: var(--disabled-bg-color);\n",
              "    fill: var(--disabled-fill-color);\n",
              "    box-shadow: none;\n",
              "  }\n",
              "\n",
              "  .colab-df-spinner {\n",
              "    border: 2px solid var(--fill-color);\n",
              "    border-color: transparent;\n",
              "    border-bottom-color: var(--fill-color);\n",
              "    animation:\n",
              "      spin 1s steps(1) infinite;\n",
              "  }\n",
              "\n",
              "  @keyframes spin {\n",
              "    0% {\n",
              "      border-color: transparent;\n",
              "      border-bottom-color: var(--fill-color);\n",
              "      border-left-color: var(--fill-color);\n",
              "    }\n",
              "    20% {\n",
              "      border-color: transparent;\n",
              "      border-left-color: var(--fill-color);\n",
              "      border-top-color: var(--fill-color);\n",
              "    }\n",
              "    30% {\n",
              "      border-color: transparent;\n",
              "      border-left-color: var(--fill-color);\n",
              "      border-top-color: var(--fill-color);\n",
              "      border-right-color: var(--fill-color);\n",
              "    }\n",
              "    40% {\n",
              "      border-color: transparent;\n",
              "      border-right-color: var(--fill-color);\n",
              "      border-top-color: var(--fill-color);\n",
              "    }\n",
              "    60% {\n",
              "      border-color: transparent;\n",
              "      border-right-color: var(--fill-color);\n",
              "    }\n",
              "    80% {\n",
              "      border-color: transparent;\n",
              "      border-right-color: var(--fill-color);\n",
              "      border-bottom-color: var(--fill-color);\n",
              "    }\n",
              "    90% {\n",
              "      border-color: transparent;\n",
              "      border-bottom-color: var(--fill-color);\n",
              "    }\n",
              "  }\n",
              "</style>\n",
              "\n",
              "  <script>\n",
              "    async function quickchart(key) {\n",
              "      const quickchartButtonEl =\n",
              "        document.querySelector('#' + key + ' button');\n",
              "      quickchartButtonEl.disabled = true;  // To prevent multiple clicks.\n",
              "      quickchartButtonEl.classList.add('colab-df-spinner');\n",
              "      try {\n",
              "        const charts = await google.colab.kernel.invokeFunction(\n",
              "            'suggestCharts', [key], {});\n",
              "      } catch (error) {\n",
              "        console.error('Error during call to suggestCharts:', error);\n",
              "      }\n",
              "      quickchartButtonEl.classList.remove('colab-df-spinner');\n",
              "      quickchartButtonEl.classList.add('colab-df-quickchart-complete');\n",
              "    }\n",
              "    (() => {\n",
              "      let quickchartButtonEl =\n",
              "        document.querySelector('#df-d6d0e9b8-5707-4f7d-a20f-861b52761b2d button');\n",
              "      quickchartButtonEl.style.display =\n",
              "        google.colab.kernel.accessAllowed ? 'block' : 'none';\n",
              "    })();\n",
              "  </script>\n",
              "</div>\n",
              "\n",
              "  <div id=\"id_da7f4cd5-dc60-43cf-9ed1-d09a03331559\">\n",
              "    <style>\n",
              "      .colab-df-generate {\n",
              "        background-color: #E8F0FE;\n",
              "        border: none;\n",
              "        border-radius: 50%;\n",
              "        cursor: pointer;\n",
              "        display: none;\n",
              "        fill: #1967D2;\n",
              "        height: 32px;\n",
              "        padding: 0 0 0 0;\n",
              "        width: 32px;\n",
              "      }\n",
              "\n",
              "      .colab-df-generate:hover {\n",
              "        background-color: #E2EBFA;\n",
              "        box-shadow: 0px 1px 2px rgba(60, 64, 67, 0.3), 0px 1px 3px 1px rgba(60, 64, 67, 0.15);\n",
              "        fill: #174EA6;\n",
              "      }\n",
              "\n",
              "      [theme=dark] .colab-df-generate {\n",
              "        background-color: #3B4455;\n",
              "        fill: #D2E3FC;\n",
              "      }\n",
              "\n",
              "      [theme=dark] .colab-df-generate:hover {\n",
              "        background-color: #434B5C;\n",
              "        box-shadow: 0px 1px 3px 1px rgba(0, 0, 0, 0.15);\n",
              "        filter: drop-shadow(0px 1px 2px rgba(0, 0, 0, 0.3));\n",
              "        fill: #FFFFFF;\n",
              "      }\n",
              "    </style>\n",
              "    <button class=\"colab-df-generate\" onclick=\"generateWithVariable('reviews')\"\n",
              "            title=\"Generate code using this dataframe.\"\n",
              "            style=\"display:none;\">\n",
              "\n",
              "  <svg xmlns=\"http://www.w3.org/2000/svg\" height=\"24px\"viewBox=\"0 0 24 24\"\n",
              "       width=\"24px\">\n",
              "    <path d=\"M7,19H8.4L18.45,9,17,7.55,7,17.6ZM5,21V16.75L18.45,3.32a2,2,0,0,1,2.83,0l1.4,1.43a1.91,1.91,0,0,1,.58,1.4,1.91,1.91,0,0,1-.58,1.4L9.25,21ZM18.45,9,17,7.55Zm-12,3A5.31,5.31,0,0,0,4.9,8.1,5.31,5.31,0,0,0,1,6.5,5.31,5.31,0,0,0,4.9,4.9,5.31,5.31,0,0,0,6.5,1,5.31,5.31,0,0,0,8.1,4.9,5.31,5.31,0,0,0,12,6.5,5.46,5.46,0,0,0,6.5,12Z\"/>\n",
              "  </svg>\n",
              "    </button>\n",
              "    <script>\n",
              "      (() => {\n",
              "      const buttonEl =\n",
              "        document.querySelector('#id_da7f4cd5-dc60-43cf-9ed1-d09a03331559 button.colab-df-generate');\n",
              "      buttonEl.style.display =\n",
              "        google.colab.kernel.accessAllowed ? 'block' : 'none';\n",
              "\n",
              "      buttonEl.onclick = () => {\n",
              "        google.colab.notebook.generateWithVariable('reviews');\n",
              "      }\n",
              "      })();\n",
              "    </script>\n",
              "  </div>\n",
              "\n",
              "    </div>\n",
              "  </div>\n"
            ],
            "application/vnd.google.colaboratory.intrinsic+json": {
              "type": "dataframe",
              "variable_name": "reviews"
            }
          },
          "metadata": {},
          "execution_count": 7
        }
      ]
    },
    {
      "cell_type": "code",
      "source": [
        "df_s = reviews.groupby(['overall', '% Upvote']).agg({'Id': 'count'})\n",
        "df_s = df_s.unstack()\n",
        "df_s.columns = df_s.columns.get_level_values(1)\n",
        "fig = plt.figure(figsize=(15,10))\n",
        "\n",
        "sns.heatmap(df_s[df_s.columns[::-1]].T, cmap = 'YlGnBu', linewidths=.5, annot = True, fmt = 'd', cbar_kws={'label': '# reviews'})\n",
        "plt.yticks(rotation=0)\n",
        "plt.title('How helpful users find among the user scores')\n",
        "plt.show()"
      ],
      "metadata": {
        "colab": {
          "base_uri": "https://localhost:8080/",
          "height": 514
        },
        "id": "adOofH-Xvzfm",
        "outputId": "73ede298-9add-462a-a11f-efc15e7f98bb"
      },
      "execution_count": 8,
      "outputs": [
        {
          "output_type": "stream",
          "name": "stderr",
          "text": [
            "<ipython-input-8-b1eb8b32aa44>:1: FutureWarning: The default of observed=False is deprecated and will be changed to True in a future version of pandas. Pass observed=False to retain current behavior or observed=True to adopt the future default and silence this warning.\n",
            "  df_s = reviews.groupby(['overall', '% Upvote']).agg({'Id': 'count'})\n"
          ]
        },
        {
          "output_type": "display_data",
          "data": {
            "text/plain": [
              "<Figure size 1500x1000 with 2 Axes>"
            ],
            "image/png": "[encoded data removed]"
          },
          "metadata": {}
        }
      ]
    },
    {
      "cell_type": "markdown",
      "source": [
        "Removing the rating of 3, and convert the reviews into binary, 1- positive, 0- negative"
      ],
      "metadata": {
        "id": "tvVMhxSx0ebf"
      }
    },
    {
      "cell_type": "code",
      "source": [
        "df =  reviews[reviews['overall'] != 3]\n",
        "X = df['reviewText']\n",
        "y_dict = {1:0, 2:0, 4:1, 5:1}\n",
        "y = df['overall'].map(y_dict)"
      ],
      "metadata": {
        "id": "_uSOdrbpv5uq"
      },
      "execution_count": 9,
      "outputs": []
    },
    {
      "cell_type": "markdown",
      "source": [
        "**Performing logistic regression on word count:**"
      ],
      "metadata": {
        "id": "q4F6Xmd1v83r"
      }
    },
    {
      "cell_type": "code",
      "source": [
        "c = CountVectorizer(stop_words = 'english')\n",
        "\n",
        "def text_fit(X, y, model,clf_model,coef_show=1):\n",
        "\n",
        "    X_c = model.fit_transform(X)\n",
        "    print('# features: {}'.format(X_c.shape[1]))\n",
        "    X_train, X_test, y_train, y_test = train_test_split(X_c, y, random_state=0)\n",
        "    print('# train records: {}'.format(X_train.shape[0]))\n",
        "    print('# test records: {}'.format(X_test.shape[0]))\n",
        "    clf = clf_model.fit(X_train, y_train)\n",
        "    acc = clf.score(X_test, y_test)\n",
        "    print ('Model Accuracy: {}'.format(acc))\n",
        "\n",
        "    if coef_show == 1:\n",
        "        w = model.get_feature_names_out()\n",
        "        coef = clf.coef_.tolist()[0]\n",
        "        coeff_df = pd.DataFrame({'Word' : w, 'Coefficient' : coef})\n",
        "        coeff_df = coeff_df.sort_values(['Coefficient', 'Word'], ascending=[0, 1])\n",
        "        print('')\n",
        "        print('-Top 20 positive-')\n",
        "        print(coeff_df.head(20).to_string(index=False))\n",
        "        print('')\n",
        "        print('-Top 20 negative-')\n",
        "        print(coeff_df.tail(20).to_string(index=False))\n",
        "\n",
        "\n",
        "text_fit(X, y, c, LogisticRegression())\n"
      ],
      "metadata": {
        "colab": {
          "base_uri": "https://localhost:8080/"
        },
        "id": "9FFtGz_Ev5lZ",
        "outputId": "8fbe9bae-3f67-4d42-950e-7c0cee1ed9a7"
      },
      "execution_count": 10,
      "outputs": [
        {
          "output_type": "stream",
          "name": "stdout",
          "text": [
            "# features: 177919\n",
            "# train records: 213717\n",
            "# test records: 71239\n"
          ]
        },
        {
          "output_type": "stream",
          "name": "stderr",
          "text": [
            "/usr/local/lib/python3.11/dist-packages/sklearn/linear_model/_logistic.py:465: ConvergenceWarning: lbfgs failed to converge (status=1):\n",
            "STOP: TOTAL NO. of ITERATIONS REACHED LIMIT.\n",
            "\n",
            "Increase the number of iterations (max_iter) or scale the data as shown in:\n",
            "    https://scikit-learn.org/stable/modules/preprocessing.html\n",
            "Please also refer to the documentation for alternative solver options:\n",
            "    https://scikit-learn.org/stable/modules/linear_model.html#logistic-regression\n",
            "  n_iter_i = _check_optimize_result(\n"
          ]
        },
        {
          "output_type": "stream",
          "name": "stdout",
          "text": [
            "Model Accuracy: 0.9208439197630511\n",
            "\n",
            "-Top 20 positive-\n",
            "        Word  Coefficient\n",
            " compliments     2.822738\n",
            "  pleasantly     2.656638\n",
            "   provoking     2.469804\n",
            "      weaves     2.255487\n",
            "    drawback     2.028365\n",
            "    inherent     2.015175\n",
            "  delightful     2.006556\n",
            "reservations     2.004998\n",
            "   interfere     1.979970\n",
            "     easiest     1.958165\n",
            "  refreshing     1.955226\n",
            "       loves     1.951792\n",
            "      turner     1.922767\n",
            "    hesitate     1.903188\n",
            "      classy     1.872455\n",
            "      enjoys     1.868099\n",
            "    blocking     1.867268\n",
            "         gem     1.809576\n",
            "  hesitation     1.795435\n",
            "   jellybean     1.789341\n",
            "\n",
            "-Top 20 negative-\n",
            "          Word  Coefficient\n",
            "      rambling    -2.298145\n",
            " dissappointed    -2.332945\n",
            "         waste    -2.340770\n",
            "disappointment    -2.349732\n",
            "        poorly    -2.375659\n",
            "  unacceptable    -2.382367\n",
            "      plodding    -2.388137\n",
            "        choppy    -2.398894\n",
            "     returning    -2.433832\n",
            "         chore    -2.540607\n",
            "      unusable    -2.555039\n",
            "      downhill    -2.574151\n",
            "           dud    -2.589159\n",
            "      tiresome    -2.773048\n",
            " disappointing    -2.789216\n",
            "          yawn    -2.866668\n",
            "    disjointed    -3.038504\n",
            "     redeeming    -3.099252\n",
            "         bland    -3.313721\n",
            " uninteresting    -4.006472\n"
          ]
        }
      ]
    },
    {
      "cell_type": "markdown",
      "source": [
        "**Baseline accuracy of the model is as follows:**"
      ],
      "metadata": {
        "id": "iRzi9H7WwEgw"
      }
    },
    {
      "cell_type": "code",
      "source": [
        "text_fit(X, y, c, DummyClassifier(),0)"
      ],
      "metadata": {
        "colab": {
          "base_uri": "https://localhost:8080/"
        },
        "id": "7hvQaQHtv5im",
        "outputId": "6e7246d8-de79-4d6b-d28d-27f57a574e42"
      },
      "execution_count": 11,
      "outputs": [
        {
          "output_type": "stream",
          "name": "stdout",
          "text": [
            "# features: 177919\n",
            "# train records: 213717\n",
            "# test records: 71239\n",
            "Model Accuracy: 0.8700711688822134\n"
          ]
        }
      ]
    },
    {
      "cell_type": "markdown",
      "source": [
        "**TF-IDF vectorizer** is added to logistic regression to **improve the model accuracy**"
      ],
      "metadata": {
        "id": "dIkqFXXmwYau"
      }
    },
    {
      "cell_type": "code",
      "source": [
        "tfidf = TfidfVectorizer(stop_words = 'english')\n",
        "text_fit(X, y, tfidf, LogisticRegression())"
      ],
      "metadata": {
        "colab": {
          "base_uri": "https://localhost:8080/"
        },
        "id": "6pVfnXQowV8o",
        "outputId": "bf5ec337-9836-4930-f2f3-dd023373f5cc"
      },
      "execution_count": 12,
      "outputs": [
        {
          "output_type": "stream",
          "name": "stdout",
          "text": [
            "# features: 177919\n",
            "# train records: 213717\n",
            "# test records: 71239\n",
            "Model Accuracy: 0.9245216805401536\n",
            "\n",
            "-Top 20 positive-\n",
            "       Word  Coefficient\n",
            "      great    10.107843\n",
            "       love     9.104876\n",
            "  excellent     8.330706\n",
            "     highly     7.852744\n",
            "  perfectly     7.447538\n",
            "    perfect     7.290599\n",
            "    amazing     7.085413\n",
            "  wonderful     6.268590\n",
            "      loves     6.242739\n",
            "       best     6.092368\n",
            "    awesome     5.825240\n",
            "      works     5.804732\n",
            "       easy     5.738762\n",
            "  complaint     5.657109\n",
            "    enjoyed     5.633719\n",
            "  fantastic     5.291714\n",
            "compliments     5.041501\n",
            "   favorite     4.938386\n",
            "        job     4.889980\n",
            "      worry     4.743862\n",
            "\n",
            "-Top 20 negative-\n",
            "          Word  Coefficient\n",
            "      horrible    -5.344234\n",
            "         worse    -5.385711\n",
            "        refund    -5.461882\n",
            "       garbage    -5.542185\n",
            "        return    -5.548212\n",
            "      terrible    -5.575016\n",
            "         trash    -5.603130\n",
            " unfortunately    -5.867820\n",
            "      returned    -6.168958\n",
            "          poor    -6.179633\n",
            "       stopped    -6.238139\n",
            "       useless    -6.534542\n",
            "disappointment    -6.864587\n",
            "  disappointed    -6.917734\n",
            "     returning    -6.981098\n",
            "        poorly    -7.734166\n",
            "        boring    -7.831337\n",
            " disappointing    -8.050907\n",
            "         waste    -8.281636\n",
            "         worst    -8.466186\n"
          ]
        }
      ]
    },
    {
      "cell_type": "markdown",
      "source": [
        "**Accuracy** with tfidf has **increased from 87% to 92.5%.**\n",
        "Logistic regression is now performed on TFIDF + n-grams."
      ],
      "metadata": {
        "id": "8JGsmOVmwjjX"
      }
    },
    {
      "cell_type": "code",
      "source": [
        "tfidf_n = TfidfVectorizer(ngram_range=(1,2),stop_words = 'english')\n",
        "text_fit(X, y, tfidf_n, LogisticRegression())"
      ],
      "metadata": {
        "colab": {
          "base_uri": "https://localhost:8080/"
        },
        "id": "0ma-uCSWwhHp",
        "outputId": "00ab1970-f181-4795-9ade-e7a997626fe2"
      },
      "execution_count": 13,
      "outputs": [
        {
          "output_type": "stream",
          "name": "stdout",
          "text": [
            "# features: 6152085\n",
            "# train records: 213717\n",
            "# test records: 71239\n",
            "Model Accuracy: 0.9199455354510871\n",
            "\n",
            "-Top 20 positive-\n",
            "            Word  Coefficient\n",
            "           great    13.772757\n",
            "            love    11.969939\n",
            "       excellent    11.247945\n",
            "         perfect    10.971178\n",
            "       perfectly     9.697944\n",
            "         amazing     9.488510\n",
            "            best     9.195034\n",
            "            easy     8.347948\n",
            "       wonderful     8.297045\n",
            "         awesome     8.289441\n",
            "           loves     7.877418\n",
            "           works     7.726433\n",
            "         enjoyed     7.642553\n",
            "          highly     7.639783\n",
            "highly recommend     6.943471\n",
            "            nice     6.942973\n",
            "             job     6.655149\n",
            "        favorite     6.654704\n",
            "             bit     6.414783\n",
            "           loved     6.399882\n",
            "\n",
            "-Top 20 negative-\n",
            "          Word  Coefficient\n",
            "       garbage    -6.880982\n",
            "          didn    -7.312709\n",
            "        refund    -7.550689\n",
            "         broke    -7.812204\n",
            "       stopped    -8.062933\n",
            "     returning    -8.304738\n",
            "disappointment    -8.462121\n",
            "      horrible    -8.564593\n",
            "      terrible    -8.572379\n",
            "        return    -9.112631\n",
            "       useless    -9.340941\n",
            "        poorly    -9.406480\n",
            " unfortunately    -9.829663\n",
            "      returned    -9.855670\n",
            "          poor   -10.064480\n",
            "  disappointed   -10.733290\n",
            "         waste   -10.837897\n",
            " disappointing   -11.189947\n",
            "         worst   -11.663505\n",
            "        boring   -13.095964\n"
          ]
        }
      ]
    },
    {
      "cell_type": "markdown",
      "source": [
        "It can be observed that accuracy of LR has not changed much and stays at 92%."
      ],
      "metadata": {
        "id": "d8WdnFDTwrkv"
      }
    },
    {
      "cell_type": "markdown",
      "source": [
        "## **Upvote prediction**\n",
        "\n",
        "Analysing the pattern of downvotes by users to predict upvotes of the products"
      ],
      "metadata": {
        "id": "zEj5VWeTwu2j"
      }
    },
    {
      "cell_type": "code",
      "source": [
        "df = df[df['overall'] == 5]\n",
        "df = df[df['% Upvote'].isin(['0-20%', '20-40%', '60-80%', '80-100%'])]\n",
        "df.shape\n",
        "\n",
        "X = df['reviewText']\n",
        "y_dict = {'0-20%': 0, '20-40%': 0, '60-80%': 1, '80-100%': 1}\n",
        "y = df['% Upvote'].map(y_dict)\n",
        "\n",
        "print('Class distribution:')\n",
        "print(y.value_counts())"
      ],
      "metadata": {
        "colab": {
          "base_uri": "https://localhost:8080/"
        },
        "id": "QLZVrad-wued",
        "outputId": "d169fec9-3694-444c-a3e4-25bf1aa921e8"
      },
      "execution_count": 14,
      "outputs": [
        {
          "output_type": "stream",
          "name": "stdout",
          "text": [
            "Class distribution:\n",
            "% Upvote\n",
            "1.0    48214\n",
            "0.0     2866\n",
            "Name: count, dtype: int64\n"
          ]
        }
      ]
    },
    {
      "cell_type": "markdown",
      "source": [
        "It can be observed that the upvotes are skewed towards positive side. To avoid it, resampling the data has to be performed."
      ],
      "metadata": {
        "id": "E5QXlToAw7fC"
      }
    },
    {
      "cell_type": "code",
      "source": [
        "df_s = pd.DataFrame(data = [X,y]).T\n",
        "\n",
        "Downvote_records = len(df_s[df_s['% Upvote'] == 0])\n",
        "Downvote_indices = np.array(df_s[df_s['% Upvote'] == 0].index)\n",
        "\n",
        "Upvote_indices = df_s[df_s['% Upvote'] == 1].index\n",
        "\n",
        "random_upvote_indices = np.random.choice(Upvote_indices, Downvote_records, replace = False)\n",
        "random_upvote_indices = np.array(random_upvote_indices)\n",
        "\n",
        "under_sample_indices = np.concatenate([Downvote_indices,random_upvote_indices])\n",
        "\n",
        "under_sample_data = df_s.loc[under_sample_indices, :]\n",
        "X_u = under_sample_data['reviewText']\n",
        "under_sample_data['% Upvote'] = under_sample_data['% Upvote'].astype(int)\n",
        "y_u = under_sample_data['% Upvote']\n",
        "\n",
        "\n",
        "print(\"Percentage of upvote transactions: \", len(under_sample_data[under_sample_data['% Upvote'] == 1])/len(under_sample_data))\n",
        "print(\"Percentage of downvote transactions: \", len(under_sample_data[under_sample_data['% Upvote'] == 0])/len(under_sample_data))\n",
        "print(\"Total number of records in resampled data: \", len(under_sample_data))"
      ],
      "metadata": {
        "colab": {
          "base_uri": "https://localhost:8080/"
        },
        "id": "nu9mXrifwV6b",
        "outputId": "a535ed1c-9425-48f6-97c8-e7fd7499b4b8"
      },
      "execution_count": 15,
      "outputs": [
        {
          "output_type": "stream",
          "name": "stdout",
          "text": [
            "Percentage of upvote transactions:  0.5\n",
            "Percentage of downvote transactions:  0.5\n",
            "Total number of records in resampled data:  5732\n"
          ]
        }
      ]
    },
    {
      "cell_type": "markdown",
      "source": [
        "Now, the similar operations as above are performed on the resampled data to measure accuracy of the model"
      ],
      "metadata": {
        "id": "9RE0rp6FxC2A"
      }
    },
    {
      "cell_type": "code",
      "source": [
        "c = CountVectorizer(stop_words = 'english')\n",
        "\n",
        "text_fit(X_u, y_u, c, LogisticRegression())"
      ],
      "metadata": {
        "colab": {
          "base_uri": "https://localhost:8080/"
        },
        "id": "OUhRsbn5xCn9",
        "outputId": "6a854a54-3bb0-48e3-af0e-1158c56d800f"
      },
      "execution_count": 16,
      "outputs": [
        {
          "output_type": "stream",
          "name": "stdout",
          "text": [
            "# features: 33854\n",
            "# train records: 4299\n",
            "# test records: 1433\n",
            "Model Accuracy: 0.6824842986741103\n",
            "\n",
            "-Top 20 positive-\n",
            "         Word  Coefficient\n",
            "       needed     1.283600\n",
            "       second     1.204762\n",
            "         wwii     1.194666\n",
            "  hillenbrand     1.178709\n",
            "     protects     1.139128\n",
            "        nancy     1.061479\n",
            "illustrations     1.001205\n",
            "    perfectly     0.993877\n",
            "     engaging     0.950745\n",
            "      lessons     0.946256\n",
            "        works     0.941670\n",
            "       picked     0.934041\n",
            "   believable     0.932718\n",
            "      cheaper     0.918071\n",
            "    insurgent     0.907844\n",
            "       mobile     0.907612\n",
            "          lol     0.903740\n",
            "        alien     0.872440\n",
            "         mary     0.868392\n",
            "        clear     0.861563\n",
            "\n",
            "-Top 20 negative-\n",
            "      Word  Coefficient\n",
            "    source    -0.835237\n",
            "  veronica    -0.848796\n",
            "  hyperion    -0.862747\n",
            "     thank    -0.876900\n",
            "    sample    -0.877849\n",
            "    purple    -0.888837\n",
            "  enjoying    -0.890849\n",
            "    george    -0.894850\n",
            "     large    -0.898217\n",
            "   hannity    -0.927783\n",
            "      mars    -0.949041\n",
            "conclusion    -0.976836\n",
            "    series    -0.985683\n",
            "    missed    -1.026796\n",
            "       low    -1.032684\n",
            "   chinese    -1.038869\n",
            "        20    -1.044169\n",
            "   griffin    -1.089243\n",
            "    martin    -1.146047\n",
            "    ending    -1.337674\n"
          ]
        }
      ]
    },
    {
      "cell_type": "markdown",
      "source": [
        "68.25% is the accuracy of the model. Now, the same is performed with n-grams and tf-idf vectorizer"
      ],
      "metadata": {
        "id": "97Gw9rv9xNzN"
      }
    },
    {
      "cell_type": "code",
      "source": [
        "tfidf_n = TfidfVectorizer(ngram_range=(1,2),stop_words = 'english')\n",
        "\n",
        "text_fit(X_u, y_u, tfidf_n, LogisticRegression())"
      ],
      "metadata": {
        "colab": {
          "base_uri": "https://localhost:8080/"
        },
        "id": "p_pKt4YKxCld",
        "outputId": "a6a1bb98-17d0-4353-85c8-b59a24d1dbe2"
      },
      "execution_count": 17,
      "outputs": [
        {
          "output_type": "stream",
          "name": "stdout",
          "text": [
            "# features: 361515\n",
            "# train records: 4299\n",
            "# test records: 1433\n",
            "Model Accuracy: 0.7062107466852756\n",
            "\n",
            "-Top 20 positive-\n",
            "       Word  Coefficient\n",
            "      phone     3.096206\n",
            "       case     2.837620\n",
            "     screen     2.210751\n",
            "      works     1.789052\n",
            "   children     1.756663\n",
            "     iphone     1.693341\n",
            "     charge     1.415151\n",
            "        use     1.339522\n",
            "        old     1.334532\n",
            "       nice     1.330459\n",
            "     stylus     1.307883\n",
            "      cable     1.260709\n",
            "    charger     1.247807\n",
            "      cover     1.232673\n",
            "  perfectly     1.229121\n",
            "      price     1.196784\n",
            "     highly     1.160536\n",
            "works great     1.159611\n",
            "  protector     1.151165\n",
            "       ipad     1.127491\n",
            "\n",
            "-Top 20 negative-\n",
            "         Word  Coefficient\n",
            "        thank    -1.037472\n",
            "      history    -1.056859\n",
            "veronica roth    -1.094040\n",
            "         mars    -1.099139\n",
            "    allegiant    -1.119693\n",
            "      trilogy    -1.136586\n",
            "      hannity    -1.157142\n",
            "       george    -1.297388\n",
            "          end    -1.312092\n",
            "         read    -1.356837\n",
            "     veronica    -1.394408\n",
            "          sad    -1.493368\n",
            "   characters    -1.657569\n",
            "         roth    -1.662326\n",
            "         tris    -1.729960\n",
            "       martin    -2.042459\n",
            "         book    -2.043335\n",
            "         wait    -2.171073\n",
            "       ending    -3.343319\n",
            "       series    -4.608568\n"
          ]
        }
      ]
    },
    {
      "cell_type": "markdown",
      "source": [
        "The accuracy has now **improved to 70.62**"
      ],
      "metadata": {
        "id": "IX4wYRHKxUns"
      }
    },
    {
      "cell_type": "markdown",
      "source": [
        "## Effect of non-contextual features"
      ],
      "metadata": {
        "id": "PrPm_zdxxY9O"
      }
    },
    {
      "cell_type": "code",
      "source": [
        "#pd.set_option('display.max_colwidth', -1)\n",
        "print('Downvote score 5 comments examples:')\n",
        "print(under_sample_data[under_sample_data['% Upvote']==0]['reviewText'].iloc[:100:20])\n",
        "print('Upvote score 5 comments examples')\n",
        "print(under_sample_data[under_sample_data['% Upvote']==1]['reviewText'].iloc[:100:20])"
      ],
      "metadata": {
        "colab": {
          "base_uri": "https://localhost:8080/"
        },
        "id": "19gPepzaxCi7",
        "outputId": "d80d43da-3f19-4b26-bfd2-0971a6f0fee2"
      },
      "execution_count": 18,
      "outputs": [
        {
          "output_type": "stream",
          "name": "stdout",
          "text": [
            "Downvote score 5 comments examples:\n",
            "152     When i ordered this book i knew it was worth i...\n",
            "1671    I loved this book.  It was sometimes hard to r...\n",
            "3850    This is a spectacular book...humans settle mar...\n",
            "4399    ... a bit slowly for my hunger of this story x...\n",
            "4641    My only question is when is R.R. Martin going ...\n",
            "Name: reviewText, dtype: object\n",
            "Upvote score 5 comments examples\n",
            "56831     This is a great resource for anyone who wants ...\n",
            "57736     Are you a Lewis and Clark buff, just starting ...\n",
            "71029     Much like some of Robert Kaplan's best writing...\n",
            "149403    I got this item a month back and it works as e...\n",
            "17545     Ella Enchanted by Gail Carson Levine has been ...\n",
            "Name: reviewText, dtype: object\n"
          ]
        }
      ]
    },
    {
      "cell_type": "markdown",
      "source": [
        "Above are the samples of the reviews that received downvotes and upvotes. The possible features have to be extracted from these reviews."
      ],
      "metadata": {
        "id": "CvB7AMdAxkJo"
      }
    },
    {
      "cell_type": "code",
      "source": [
        "under_sample_data['word_count'] = under_sample_data['reviewText'].apply(lambda x: len(x.split()))\n",
        "under_sample_data['capital_count'] = under_sample_data['reviewText'].apply(lambda x: sum(1 for c in x if c.isupper()))\n",
        "under_sample_data['question_mark'] = under_sample_data['reviewText'].apply(lambda x: sum(1 for c in x if c == '?'))\n",
        "under_sample_data['exclamation_mark'] = under_sample_data['reviewText'].apply(lambda x: sum(1 for c in x if c == '!'))\n",
        "under_sample_data['punctuation'] = under_sample_data['reviewText'].apply(lambda x: sum(1 for c in x if c in punctuation))\n",
        "\n",
        "print(under_sample_data.groupby('% Upvote').agg({'word_count': 'mean', 'capital_count': 'mean', 'question_mark': 'mean', 'exclamation_mark': 'mean', 'punctuation': 'mean'}).T)\n",
        "\n",
        "X_num = under_sample_data[under_sample_data.columns.difference(['% Upvote', 'reviewText'])]\n",
        "y_num = under_sample_data['% Upvote']"
      ],
      "metadata": {
        "colab": {
          "base_uri": "https://localhost:8080/"
        },
        "id": "-V0Zl3N8xnTl",
        "outputId": "c4a04609-23e7-4572-cca9-7d7234f28f77"
      },
      "execution_count": 19,
      "outputs": [
        {
          "output_type": "stream",
          "name": "stdout",
          "text": [
            "% Upvote                   0           1\n",
            "word_count        135.152477  182.813678\n",
            "capital_count      24.525471   29.387648\n",
            "question_mark       0.271458    0.214934\n",
            "exclamation_mark    0.758548    0.693650\n",
            "punctuation        22.615841   31.089672\n"
          ]
        }
      ]
    },
    {
      "cell_type": "markdown",
      "source": [
        "# **Training the model to predict**\n",
        "The model is now trained to predict upvotes"
      ],
      "metadata": {
        "id": "rywaoqzUxrwB"
      }
    },
    {
      "cell_type": "code",
      "source": [
        "X_train, X_test, y_train, y_test = train_test_split(X_num, y_num, random_state=0)\n",
        "\n",
        "clf_lr = LogisticRegression().fit(X_train, y_train)\n",
        "acc_lr = clf_lr.score(X_test, y_test)\n",
        "print('Logistic Regression accuracy: {}'.format(acc_lr))\n",
        "\n",
        "clf_svm = svm.SVC().fit(X_train, y_train)\n",
        "acc_svm = clf_svm.score(X_test, y_test)\n",
        "print('SVM accuracy: {}'.format(acc_svm))"
      ],
      "metadata": {
        "colab": {
          "base_uri": "https://localhost:8080/"
        },
        "id": "mEWmYnC2xwuP",
        "outputId": "20bd1e80-0025-467c-cc27-5af040a05ceb"
      },
      "execution_count": 20,
      "outputs": [
        {
          "output_type": "stream",
          "name": "stdout",
          "text": [
            "Logistic Regression accuracy: 0.5617585484996511\n",
            "SVM accuracy: 0.567341242149337\n"
          ]
        }
      ]
    },
    {
      "cell_type": "markdown",
      "source": [
        "Accuracy is lower than the count feature and so, it can be determined that these non-contextual features are not the right choice to perform the prediction"
      ],
      "metadata": {
        "id": "DRjyzumlx0yq"
      }
    },
    {
      "cell_type": "markdown",
      "source": [
        "# **Study of user behavior**\n",
        "The user behavior has to be analyzed to improve the model performance and understand the underlying reasons for the bad or good reviews and improvise recommendation system. This also gives importance to word choices of a user when giving the reviews.\n",
        "\n"
      ],
      "metadata": {
        "id": "Sxq9dy0cx6MC"
      }
    },
    {
      "cell_type": "code",
      "source": [
        "df_user = reviews.groupby(['reviewerID']).agg({'overall':['count', 'mean']})\n",
        "df_user.columns = df_user.columns.get_level_values(1)\n",
        "df_user.columns = ['Rating count', 'Rating mean']\n",
        "df_user = df_user.sort_values(by = 'Rating count', ascending = False)\n",
        "print(df_user.head(10))"
      ],
      "metadata": {
        "colab": {
          "base_uri": "https://localhost:8080/"
        },
        "id": "8VMOi3qMxxNa",
        "outputId": "5367555c-da30-4009-c02c-d76b67cbb010"
      },
      "execution_count": 21,
      "outputs": [
        {
          "output_type": "stream",
          "name": "stdout",
          "text": [
            "                Rating count  Rating mean\n",
            "reviewerID                               \n",
            "AFVQZQ8PW0L              426     4.598592\n",
            "A2F6N60Z96CAJI           176     4.465909\n",
            "A2NYK9KWFMJV4Y           152     4.907895\n",
            "A2NOW4U7W3F7RI           141     4.773050\n",
            "A22CW0ZHY3NJH8           141     4.482270\n",
            "A1K1JW1C5CUSUZ           139     4.446043\n",
            "A1EVV74UQYVKRY           138     4.731884\n",
            "A1ODOGXEYECQQ8           134     4.313433\n",
            "A23GFTVIETX7DS           127     4.362205\n",
            "A36K2N527TXXJN           127     4.527559\n"
          ]
        }
      ]
    },
    {
      "cell_type": "markdown",
      "source": [
        "Count of ratings is considered to select the user and user with the id A1EVV74UQYVKRY is randomly chosen"
      ],
      "metadata": {
        "id": "IlIibx60yH88"
      }
    },
    {
      "cell_type": "code",
      "source": [
        "def plot_user(reviewerID):\n",
        "    df_1user = reviews[reviews['reviewerID'] == reviewerID]['overall']\n",
        "    df_1user_plot = df_1user.value_counts(sort=False).sort_index()\n",
        "    ax = df_1user_plot.plot(kind = 'bar', figsize = (15,10), title = 'Rating distribution of user {} review'.format(reviews[reviews['reviewerID'] == reviewerID]['reviewerID'].iloc[0]))\n",
        "    plt.show()\n",
        "\n",
        "plot_user('A1K1JW1C5CUSUZ')"
      ],
      "metadata": {
        "colab": {
          "base_uri": "https://localhost:8080/",
          "height": 459
        },
        "id": "jrspvqLlyKSU",
        "outputId": "7d3a3452-d863-41f9-ad7f-eee7fd9b7a77"
      },
      "execution_count": 36,
      "outputs": [
        {
          "output_type": "display_data",
          "data": {
            "text/plain": [
              "<Figure size 1500x1000 with 1 Axes>"
            ],
            "image/png": "[encoded data removed]"
          },
          "metadata": {}
        }
      ]
    },
    {
      "cell_type": "markdown",
      "source": [
        "It can be observed that the user is happy with most of the products and hence, reviews are biased towards positive."
      ],
      "metadata": {
        "id": "PMYbU5cHyOkj"
      }
    },
    {
      "cell_type": "code",
      "source": [
        "print(df_user[(df_user['Rating mean']<3.5) & (df_user['Rating mean']>2.5)].head())"
      ],
      "metadata": {
        "colab": {
          "base_uri": "https://localhost:8080/"
        },
        "id": "exyqKkj_yKmZ",
        "outputId": "5c4a7d91-02e0-457c-f884-42bd18e1f2bd"
      },
      "execution_count": 37,
      "outputs": [
        {
          "output_type": "stream",
          "name": "stdout",
          "text": [
            "                Rating count  Rating mean\n",
            "reviewerID                               \n",
            "A1X8VZWTOG8IS6            65     3.461538\n",
            "A2EDZH51XHFA9B            40     3.450000\n",
            "A3LDPF5FMB782Z            39     3.435897\n",
            "A2F3SXHT6RBV81            32     3.031250\n",
            "AU6DIIDZK2OQM             29     3.482759\n"
          ]
        }
      ]
    },
    {
      "cell_type": "markdown",
      "source": [
        "Now, one of the users with mean rating near 3 (A1RRMZKOMZ2M7J) is chosen to perform the analysis"
      ],
      "metadata": {
        "id": "kp8j10uuyVFA"
      }
    },
    {
      "cell_type": "code",
      "source": [
        "plot_user('A3LDPF5FMB782Z')"
      ],
      "metadata": {
        "colab": {
          "base_uri": "https://localhost:8080/",
          "height": 459
        },
        "id": "vZ8veY5XyZ9U",
        "outputId": "36a607bc-efab-4cbc-93d5-204dba396deb"
      },
      "execution_count": 43,
      "outputs": [
        {
          "output_type": "display_data",
          "data": {
            "text/plain": [
              "<Figure size 1500x1000 with 1 Axes>"
            ],
            "image/png": "[encoded data removed]"
          },
          "metadata": {}
        }
      ]
    },
    {
      "cell_type": "markdown",
      "source": [
        "Most popular words used by the user for different ratings are observed. (2-grams and 3-grams are chosen for analysis)"
      ],
      "metadata": {
        "id": "cx-a04ykydku"
      }
    },
    {
      "cell_type": "code",
      "source": [
        "from nltk.corpus import stopwords\n",
        "from nltk.tokenize import word_tokenize\n",
        "nltk.download('stopwords')\n",
        "nltk.download('punkt_tab')\n",
        "\n",
        "def get_token_ngram(score, benchmark, userid='all'):\n",
        "\n",
        "    if userid != 'all':\n",
        "        df = reviews[(reviews['reviewerID'] == userid) & (reviews['overall'] == score)]['reviewText']\n",
        "    else:\n",
        "        df = reviews[reviews['overall'] == score]['reviewText']\n",
        "\n",
        "    count = len(df)\n",
        "    total_text = ' '.join(df)\n",
        "    total_text = total_text.lower()\n",
        "    stop = set(stopwords.words('english'))\n",
        "    total_text = nltk.word_tokenize(total_text)\n",
        "    total_text = [word for word in total_text if word not in stop and len(word) >= 3]\n",
        "    lemmatizer = WordNetLemmatizer()\n",
        "    total_text = [lemmatizer.lemmatize(w,'v') for w in total_text]\n",
        "    bigrams = ngrams(total_text,2)\n",
        "    trigrams = ngrams(total_text, 3)\n",
        "\n",
        "    # look at 2-gram and 3-gram together\n",
        "    combine = chain(bigrams, trigrams)\n",
        "    text = nltk.Text(combine)\n",
        "    fdist = nltk.FreqDist(text)\n",
        "\n",
        "    # return only phrase occurs more than benchmark of his reviews\n",
        "    return sorted([(w,fdist[w],str(round(fdist[w]/count*100,2))+'%') for w in set(text) if fdist[w] >= count*benchmark], key=lambda x: -x[1])\n",
        "\n",
        "# score 1-5 reviews with this user\n",
        "index = ['Phrase', 'Count', 'Occur %']\n",
        "\n",
        "for j in range(1,6):\n",
        "    test = pd.DataFrame()\n",
        "    d = get_token_ngram(j, 0.25, 'A3LDPF5FMB782Z')\n",
        "    print('score {j} reviews most popular 2-gram / 3-gram:')\n",
        "\n",
        "    # Create DataFrame using list comprehension (faster and avoids append issues)\n",
        "    test = pd.DataFrame([pd.Series(i, index=index) for i in d])\n",
        "\n",
        "    print(test)"
      ],
      "metadata": {
        "colab": {
          "base_uri": "https://localhost:8080/"
        },
        "id": "BUp4mrmMyf76",
        "outputId": "14998c85-eb11-4da7-e09e-97f47d09be04"
      },
      "execution_count": 57,
      "outputs": [
        {
          "output_type": "stream",
          "name": "stderr",
          "text": [
            "[nltk_data] Downloading package stopwords to /root/nltk_data...\n",
            "[nltk_data]   Package stopwords is already up-to-date!\n",
            "[nltk_data] Downloading package punkt_tab to /root/nltk_data...\n",
            "[nltk_data]   Package punkt_tab is already up-to-date!\n"
          ]
        },
        {
          "output_type": "stream",
          "name": "stdout",
          "text": [
            "score {j} reviews most popular 2-gram / 3-gram:\n",
            "                         Phrase  Count Occur %\n",
            "0                 (high, speed)      2  100.0%\n",
            "1            (high, speed, lte)      2  100.0%\n",
            "2                  (speed, lte)      2  100.0%\n",
            "3                 (2013, model)      1   50.0%\n",
            "4      (efforts, screen, clear)      1   50.0%\n",
            "..                          ...    ...     ...\n",
            "113              (sticky, feel)      1   50.0%\n",
            "114            (staff, install)      1   50.0%\n",
            "115        (anyone, buy, boost)      1   50.0%\n",
            "116  (speeds.as, october, 2013)      1   50.0%\n",
            "117    (run, sprint/boost, new)      1   50.0%\n",
            "\n",
            "[118 rows x 3 columns]\n",
            "score {j} reviews most popular 2-gram / 3-gram:\n",
            "                  Phrase  Count  Occur %\n",
            "0      (wi-max, network)     13  144.44%\n",
            "1         (lte, network)      7   77.78%\n",
            "2   (hours, per, charge)      5   55.56%\n",
            "3           (five, star)      5   55.56%\n",
            "4           (hours, per)      5   55.56%\n",
            "5          (per, charge)      5   55.56%\n",
            "6        (boost, mobile)      4   44.44%\n",
            "7           (many, five)      4   44.44%\n",
            "8       (quality, phone)      4   44.44%\n",
            "9        (battery, life)      4   44.44%\n",
            "10    (many, five, star)      4   44.44%\n",
            "11     (samsung, galaxy)      4   44.44%\n",
            "12          (phone, get)      4   44.44%\n",
            "13      (download, data)      4   44.44%\n",
            "14       (load, battery)      4   44.44%\n",
            "15        (great, phone)      4   44.44%\n",
            "16            (new, lte)      4   44.44%\n",
            "17         (data, speed)      3   33.33%\n",
            "18         (good, phone)      3   33.33%\n",
            "19    (five, star, four)      3   33.33%\n",
            "20    (star, four, star)      3   33.33%\n",
            "21          (star, four)      3   33.33%\n",
            "22       (single, layer)      3   33.33%\n",
            "23          (lte, phone)      3   33.33%\n",
            "24          (four, star)      3   33.33%\n",
            "25         (high, speed)      3   33.33%\n",
            "26        (star, review)      3   33.33%\n",
            "27     (metropcs, store)      3   33.33%\n",
            "28      (american, home)      3   33.33%\n",
            "29         (phone, call)      3   33.33%\n",
            "30        (shut, wi-max)      3   33.33%\n",
            "31  (four, star, review)      3   33.33%\n",
            "score {j} reviews most popular 2-gram / 3-gram:\n",
            "                      Phrase  Count Occur %\n",
            "0         (internal, memory)      6  85.71%\n",
            "1            (boost, mobile)      5  71.43%\n",
            "2               (lte, phone)      5  71.43%\n",
            "3            (coverage, map)      5  71.43%\n",
            "4             (lte, network)      5  71.43%\n",
            "..                       ...    ...     ...\n",
            "102        (core, processor)      2  28.57%\n",
            "103  (zero, boost, coverage)      2  28.57%\n",
            "104     (camera, take, good)      2  28.57%\n",
            "105               (use, gps)      2  28.57%\n",
            "106           (much, better)      2  28.57%\n",
            "\n",
            "[107 rows x 3 columns]\n",
            "score {j} reviews most popular 2-gram / 3-gram:\n",
            "                         Phrase  Count Occur %\n",
            "0               (boost, mobile)      7  58.33%\n",
            "1            (internal, memory)      5  41.67%\n",
            "2                (boost, phone)      4  33.33%\n",
            "3              (orion, gadgets)      4  33.33%\n",
            "4               (coverage, map)      4  33.33%\n",
            "5              (search, amazon)      4  33.33%\n",
            "6            (drop, protection)      3   25.0%\n",
            "7             (wi-max, network)      3   25.0%\n",
            "8   (maximum, drop, protection)      3   25.0%\n",
            "9             (ballistic, case)      3   25.0%\n",
            "10              (maximum, drop)      3   25.0%\n",
            "11              (hours, charge)      3   25.0%\n",
            "12              (high, quality)      3   25.0%\n",
            "13                (phone, call)      3   25.0%\n",
            "14          (affordable, price)      3   25.0%\n",
            "15                   (new, lte)      3   25.0%\n",
            "score {j} reviews most popular 2-gram / 3-gram:\n",
            "                     Phrase  Count Occur %\n",
            "0         (charge, battery)      5  55.56%\n",
            "1      (hours, per, charge)      4  44.44%\n",
            "2         (properly, store)      4  44.44%\n",
            "3           (phone, charge)      4  44.44%\n",
            "4              (hours, per)      4  44.44%\n",
            "5         (hours, internet)      4  44.44%\n",
            "6             (per, charge)      4  44.44%\n",
            "7   (provide, secure, grip)      3  33.33%\n",
            "8          (drain, battery)      3  33.33%\n",
            "9         (provide, secure)      3  33.33%\n",
            "10           (outer, shell)      3  33.33%\n",
            "11        (battery, charge)      3  33.33%\n",
            "12           (eight, hours)      3  33.33%\n",
            "13             (two, hours)      3  33.33%\n",
            "14          (case, provide)      3  33.33%\n",
            "15           (secure, grip)      3  33.33%\n"
          ]
        }
      ]
    },
    {
      "cell_type": "markdown",
      "source": [
        "Now, the popular words for all users are observed"
      ],
      "metadata": {
        "id": "Exjx9Nscynf8"
      }
    },
    {
      "cell_type": "code",
      "source": [
        "# score 1-5 reviews with all users\n",
        "nltk.download('wordnet')\n",
        "index = ['Phrase', 'Count', 'Occur %']\n",
        "\n",
        "for j in range(1,6):\n",
        "    test_list = []  # Create an empty list to store Series\n",
        "    # easier benchmark since we have many different users here, thus different phrase\n",
        "    d = get_token_ngram(j, 0.03)\n",
        "    print('score {j} reviews most popular 2-gram / 3-gram:')\n",
        "    for i in d:\n",
        "        test_list.append(pd.Series(i, index=index))  # Append each Series to the list\n",
        "\n",
        "    # Ensure 'test' is a DataFrame before sorting\n",
        "    if isinstance(test, pd.Series):\n",
        "        test = test.to_frame().T  # Convert Series to DataFrame\n",
        "\n",
        "    test = test.sort_values('Count', ascending=False)\n",
        "    print(test)"
      ],
      "metadata": {
        "colab": {
          "base_uri": "https://localhost:8080/"
        },
        "id": "K_xm--5bygau",
        "outputId": "562a47f9-5f51-4520-f139-6f9b0ebaf128"
      },
      "execution_count": 58,
      "outputs": [
        {
          "output_type": "stream",
          "name": "stderr",
          "text": [
            "[nltk_data] Downloading package wordnet to /root/nltk_data...\n",
            "[nltk_data]   Package wordnet is already up-to-date!\n"
          ]
        },
        {
          "output_type": "stream",
          "name": "stdout",
          "text": [
            "score 1 reviews most popular 2-gram / 3-gram:\n",
            "                     Phrase  Count Occur %\n",
            "0         (charge, battery)      5  55.56%\n",
            "1      (hours, per, charge)      4  44.44%\n",
            "2         (properly, store)      4  44.44%\n",
            "3           (phone, charge)      4  44.44%\n",
            "4              (hours, per)      4  44.44%\n",
            "5         (hours, internet)      4  44.44%\n",
            "6             (per, charge)      4  44.44%\n",
            "7   (provide, secure, grip)      3  33.33%\n",
            "8          (drain, battery)      3  33.33%\n",
            "9         (provide, secure)      3  33.33%\n",
            "10           (outer, shell)      3  33.33%\n",
            "11        (battery, charge)      3  33.33%\n",
            "12           (eight, hours)      3  33.33%\n",
            "13             (two, hours)      3  33.33%\n",
            "14          (case, provide)      3  33.33%\n",
            "15           (secure, grip)      3  33.33%\n",
            "score 2 reviews most popular 2-gram / 3-gram:\n",
            "                     Phrase  Count Occur %\n",
            "0         (charge, battery)      5  55.56%\n",
            "1      (hours, per, charge)      4  44.44%\n",
            "2         (properly, store)      4  44.44%\n",
            "3           (phone, charge)      4  44.44%\n",
            "4              (hours, per)      4  44.44%\n",
            "5         (hours, internet)      4  44.44%\n",
            "6             (per, charge)      4  44.44%\n",
            "7   (provide, secure, grip)      3  33.33%\n",
            "8          (drain, battery)      3  33.33%\n",
            "9         (provide, secure)      3  33.33%\n",
            "10           (outer, shell)      3  33.33%\n",
            "11        (battery, charge)      3  33.33%\n",
            "12           (eight, hours)      3  33.33%\n",
            "13             (two, hours)      3  33.33%\n",
            "14          (case, provide)      3  33.33%\n",
            "15           (secure, grip)      3  33.33%\n",
            "score 3 reviews most popular 2-gram / 3-gram:\n",
            "                     Phrase  Count Occur %\n",
            "0         (charge, battery)      5  55.56%\n",
            "1      (hours, per, charge)      4  44.44%\n",
            "2         (properly, store)      4  44.44%\n",
            "3           (phone, charge)      4  44.44%\n",
            "4              (hours, per)      4  44.44%\n",
            "5         (hours, internet)      4  44.44%\n",
            "6             (per, charge)      4  44.44%\n",
            "7   (provide, secure, grip)      3  33.33%\n",
            "8          (drain, battery)      3  33.33%\n",
            "9         (provide, secure)      3  33.33%\n",
            "10           (outer, shell)      3  33.33%\n",
            "11        (battery, charge)      3  33.33%\n",
            "12           (eight, hours)      3  33.33%\n",
            "13             (two, hours)      3  33.33%\n",
            "14          (case, provide)      3  33.33%\n",
            "15           (secure, grip)      3  33.33%\n",
            "score 4 reviews most popular 2-gram / 3-gram:\n",
            "                     Phrase  Count Occur %\n",
            "0         (charge, battery)      5  55.56%\n",
            "1      (hours, per, charge)      4  44.44%\n",
            "2         (properly, store)      4  44.44%\n",
            "3           (phone, charge)      4  44.44%\n",
            "4              (hours, per)      4  44.44%\n",
            "5         (hours, internet)      4  44.44%\n",
            "6             (per, charge)      4  44.44%\n",
            "7   (provide, secure, grip)      3  33.33%\n",
            "8          (drain, battery)      3  33.33%\n",
            "9         (provide, secure)      3  33.33%\n",
            "10           (outer, shell)      3  33.33%\n",
            "11        (battery, charge)      3  33.33%\n",
            "12           (eight, hours)      3  33.33%\n",
            "13             (two, hours)      3  33.33%\n",
            "14          (case, provide)      3  33.33%\n",
            "15           (secure, grip)      3  33.33%\n",
            "score 5 reviews most popular 2-gram / 3-gram:\n",
            "                     Phrase  Count Occur %\n",
            "0         (charge, battery)      5  55.56%\n",
            "1      (hours, per, charge)      4  44.44%\n",
            "2         (properly, store)      4  44.44%\n",
            "3           (phone, charge)      4  44.44%\n",
            "4              (hours, per)      4  44.44%\n",
            "5         (hours, internet)      4  44.44%\n",
            "6             (per, charge)      4  44.44%\n",
            "7   (provide, secure, grip)      3  33.33%\n",
            "8          (drain, battery)      3  33.33%\n",
            "9         (provide, secure)      3  33.33%\n",
            "10           (outer, shell)      3  33.33%\n",
            "11        (battery, charge)      3  33.33%\n",
            "12           (eight, hours)      3  33.33%\n",
            "13             (two, hours)      3  33.33%\n",
            "14          (case, provide)      3  33.33%\n",
            "15           (secure, grip)      3  33.33%\n"
          ]
        }
      ]
    },
    {
      "cell_type": "markdown",
      "source": [
        "Now, only the adjectives are taken into consideration, as those express opinion and nouns don't."
      ],
      "metadata": {
        "id": "Sozbjomoys-7"
      }
    },
    {
      "cell_type": "code",
      "source": [
        "def get_token_adj(score, benchmark, userid='all'):\n",
        "\n",
        "    if userid != 'all':\n",
        "        df = reviews[(reviews['reviewerID'] == userid) & (reviews['overall'] == score)]['reviewText']\n",
        "    else:\n",
        "        df = reviews[reviews['overall'] == score]['reviewText']\n",
        "\n",
        "    count = len(df)\n",
        "    total_text = ' '.join(df)\n",
        "    total_text = total_text.lower()\n",
        "    stop = set(stopwords.words('english'))\n",
        "    total_text = nltk.word_tokenize(total_text)\n",
        "    total_text = [word for word in total_text if word not in stop and len(word) >= 3]\n",
        "    lemmatizer = WordNetLemmatizer()\n",
        "    total_text = [lemmatizer.lemmatize(w,'a') for w in total_text]\n",
        "    # get adjective only\n",
        "    total_text = [word for word, form in nltk.pos_tag(total_text) if form == 'JJ']\n",
        "\n",
        "    text = nltk.Text(total_text)\n",
        "    fdist = nltk.FreqDist(text)\n",
        "\n",
        "    # return only phrase occurs more than benchmark of his reviews\n",
        "    return sorted([(w,fdist[w],str(round(fdist[w]/count*100,2))+'%') for w in set(text) if fdist[w] >= count*benchmark], key=lambda x: -x[1])"
      ],
      "metadata": {
        "id": "HAk3GZudygNP"
      },
      "execution_count": 59,
      "outputs": []
    },
    {
      "cell_type": "code",
      "source": [
        "# score 1-5 reviews with this user\n",
        "nltk.download('averaged_perceptron_tagger_eng')\n",
        "index = ['Phrase', 'Count', 'Occur %']\n",
        "\n",
        "for j in range(1,6):\n",
        "    test = pd.DataFrame()\n",
        "    d = get_token_adj(j, 0.25, 'A3LDPF5FMB782Z')\n",
        "    print(f'score {j} reviews most popular adjectives word:')\n",
        "\n",
        "    # Append data to the list\n",
        "    for i in d:\n",
        "        test_list.append(pd.Series(i, index=index))\n",
        "\n",
        "    # Convert list to DataFrame only if it contains data\n",
        "    if test_list:\n",
        "        test = pd.DataFrame(test_list)\n",
        "        test['Count'] = test['Count'].astype(int)  # Ensure sorting works correctly\n",
        "        test = test.sort_values('Count', ascending=False)\n",
        "        print(test)\n",
        "    else:\n",
        "        print(\"No data to display.\")"
      ],
      "metadata": {
        "colab": {
          "base_uri": "https://localhost:8080/"
        },
        "id": "cDMkrLKuy448",
        "outputId": "4932adb8-c253-4080-f91c-0171a24169f4"
      },
      "execution_count": 65,
      "outputs": [
        {
          "output_type": "stream",
          "name": "stderr",
          "text": [
            "[nltk_data] Downloading package averaged_perceptron_tagger_eng to\n",
            "[nltk_data]     /root/nltk_data...\n",
            "[nltk_data]   Package averaged_perceptron_tagger_eng is already up-to-\n",
            "[nltk_data]       date!\n"
          ]
        },
        {
          "output_type": "stream",
          "name": "stdout",
          "text": [
            "score 1 reviews most popular adjectives word:\n",
            "                  Phrase  Count  Occur %\n",
            "0           (read, book)  10957    6.16%\n",
            "1    (highly, recommend)   9462    5.32%\n",
            "2    (screen, protector)   9128    5.13%\n",
            "3          (work, great)   7221    4.06%\n",
            "17                wi-max     17  188.89%\n",
            "..                   ...    ...      ...\n",
            "150               smooth      1    50.0%\n",
            "151            speeds.as      1    50.0%\n",
            "152                 good      1    50.0%\n",
            "153                clear      1    50.0%\n",
            "154             pre-zagg      1    50.0%\n",
            "\n",
            "[155 rows x 3 columns]\n",
            "score 2 reviews most popular adjectives word:\n",
            "                  Phrase  Count  Occur %\n",
            "0           (read, book)  10957    6.16%\n",
            "1    (highly, recommend)   9462    5.32%\n",
            "2    (screen, protector)   9128    5.13%\n",
            "3          (work, great)   7221    4.06%\n",
            "17                wi-max     17  188.89%\n",
            "..                   ...    ...      ...\n",
            "149              residue      1    50.0%\n",
            "150               smooth      1    50.0%\n",
            "151            speeds.as      1    50.0%\n",
            "152                 good      1    50.0%\n",
            "153                clear      1    50.0%\n",
            "\n",
            "[178 rows x 3 columns]\n",
            "score 3 reviews most popular adjectives word:\n",
            "                  Phrase  Count  Occur %\n",
            "0           (read, book)  10957    6.16%\n",
            "1    (highly, recommend)   9462    5.32%\n",
            "2    (screen, protector)   9128    5.13%\n",
            "3          (work, great)   7221    4.06%\n",
            "17                wi-max     17  188.89%\n",
            "..                   ...    ...      ...\n",
            "149              residue      1    50.0%\n",
            "150               smooth      1    50.0%\n",
            "151            speeds.as      1    50.0%\n",
            "152                 good      1    50.0%\n",
            "153                clear      1    50.0%\n",
            "\n",
            "[226 rows x 3 columns]\n",
            "score 4 reviews most popular adjectives word:\n",
            "                  Phrase  Count  Occur %\n",
            "0           (read, book)  10957    6.16%\n",
            "1    (highly, recommend)   9462    5.32%\n",
            "2    (screen, protector)   9128    5.13%\n",
            "3          (work, great)   7221    4.06%\n",
            "17                wi-max     17  188.89%\n",
            "..                   ...    ...      ...\n",
            "150               smooth      1    50.0%\n",
            "151            speeds.as      1    50.0%\n",
            "152                 good      1    50.0%\n",
            "153                clear      1    50.0%\n",
            "146              lengthy      1    50.0%\n",
            "\n",
            "[265 rows x 3 columns]\n",
            "score 5 reviews most popular adjectives word:\n",
            "                  Phrase  Count  Occur %\n",
            "0           (read, book)  10957    6.16%\n",
            "1    (highly, recommend)   9462    5.32%\n",
            "2    (screen, protector)   9128    5.13%\n",
            "3          (work, great)   7221    4.06%\n",
            "16                   new     17  188.89%\n",
            "..                   ...    ...      ...\n",
            "154             pre-zagg      1    50.0%\n",
            "151            speeds.as      1    50.0%\n",
            "148                foggy      1    50.0%\n",
            "149              residue      1    50.0%\n",
            "150               smooth      1    50.0%\n",
            "\n",
            "[282 rows x 3 columns]\n"
          ]
        }
      ]
    },
    {
      "cell_type": "markdown",
      "source": [
        "Sentiment analysis is performed using logistic regression and support vector machines. The usage of non-contextual features in reviews is observed. Also, the user behavior is analyzed and the popular words used by the users are determined."
      ],
      "metadata": {
        "id": "5zdX_deuy9Nr"
      }
    },
    {
      "cell_type": "markdown",
      "source": [
        "Rights: Vindhya V"
      ],
      "metadata": {
        "id": "zaAjOMy4NM-g"
      }
    },
    {
      "cell_type": "code",
      "source": [],
      "metadata": {
        "id": "SXGdD0kwy41v"
      },
      "execution_count": null,
      "outputs": []
    }
  ]
}